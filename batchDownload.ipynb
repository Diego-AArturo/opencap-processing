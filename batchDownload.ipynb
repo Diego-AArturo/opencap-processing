{
  "nbformat": 4,
  "nbformat_minor": 0,
  "metadata": {
    "colab": {
      "provenance": [],
      "collapsed_sections": [],
      "authorship_tag": "ABX9TyMkSapGQ1OHzWQuPPoswXzQ",
      "include_colab_link": true
    },
    "kernelspec": {
      "name": "python3",
      "display_name": "Python 3"
    },
    "language_info": {
      "name": "python"
    }
  },
  "cells": [
    {
      "cell_type": "markdown",
      "metadata": {
        "id": "view-in-github",
        "colab_type": "text"
      },
      "source": [
        "<a href=\"https://colab.research.google.com/github/stanfordnmbl/opencap-processing/blob/issue_27/batchDownload.ipynb\" target=\"_parent\"><img src=\"https://colab.research.google.com/assets/colab-badge.svg\" alt=\"Open In Colab\"/></a>"
      ]
    },
    {
      "cell_type": "code",
      "execution_count": null,
      "metadata": {
        "id": "1hd2tkuEEWUf"
      },
      "outputs": [],
      "source": [
        "!pip install -q condacolab\n",
        "import condacolab\n",
        "condacolab.install()"
      ]
    },
    {
      "cell_type": "code",
      "source": [
        "!pip install python-decouple\n",
        "!pip install maskpass==0.3.6\n",
        "!pip install requests"
      ],
      "metadata": {
        "id": "d7k-g1I1ExDi"
      },
      "execution_count": null,
      "outputs": []
    },
    {
      "cell_type": "code",
      "source": [
        "!git clone https://github.com/stanfordnmbl/opencap-processing.git"
      ],
      "metadata": {
        "colab": {
          "base_uri": "https://localhost:8080/"
        },
        "id": "CtNBj5OWFe0T",
        "outputId": "845b963a-f5e2-4644-af3e-1172c461836e"
      },
      "execution_count": 8,
      "outputs": [
        {
          "output_type": "stream",
          "name": "stdout",
          "text": [
            "fatal: destination path 'opencap-processing' already exists and is not an empty directory.\n"
          ]
        }
      ]
    },
    {
      "cell_type": "code",
      "source": [
        "import sys\n",
        "sys.path.append('./opencap-processing')\n"
      ],
      "metadata": {
        "id": "vI43BFbRIOB1"
      },
      "execution_count": 12,
      "outputs": []
    },
    {
      "cell_type": "code",
      "source": [
        "from utils import download_session\n",
        "import os"
      ],
      "metadata": {
        "id": "euExyeyQJK_O",
        "outputId": "e8759740-9385-4d8e-ec66-c28ff8c55b3a",
        "colab": {
          "base_uri": "https://localhost:8080/"
        }
      },
      "execution_count": 13,
      "outputs": [
        {
          "output_type": "stream",
          "name": "stdout",
          "text": [
            "Login with credentials used at app.opencap.ai.\n",
            "Visit the website to make an account if you do not have one.\n",
            "\n",
            "Enter Username: ··········\n",
            "Enter Password: ··········\n",
            "Login successful.\n"
          ]
        }
      ]
    },
    {
      "cell_type": "code",
      "source": [
        "sessionList = ['4d5c3eb1-1a59-4ea1-9178-d3634610561c']\n",
        "downloadPath = os.path.join(os.getcwd(), 'Data')\n",
        "\n",
        "for session_id in sessionList:\n",
        "    download_session(session_id,downloadPath)"
      ],
      "metadata": {
        "id": "gBEJHmyJJRhB",
        "outputId": "ac535402-c118-4cd3-b43e-75fc86063fae",
        "colab": {
          "base_uri": "https://localhost:8080/"
        }
      },
      "execution_count": 14,
      "outputs": [
        {
          "output_type": "stream",
          "name": "stdout",
          "text": [
            "\n",
            "Downloading 4d5c3eb1-1a59-4ea1-9178-d3634610561c\n",
            "\n",
            "Downloading calibration\n",
            "\n",
            "Downloading neutral\n",
            "\n",
            "Downloading walk_1_25ms\n",
            "\n",
            "Downloading run_2_5ms\n",
            "\n",
            "Downloading squat\n",
            "\n",
            "Downloading jump\n",
            "\n",
            "Downloading STS\n",
            "\n",
            "Downloading DJ\n",
            "\n",
            "Downloading SLDJ\n",
            "\n",
            "Downloading run_4ms\n"
          ]
        }
      ]
    },
    {
      "cell_type": "code",
      "source": [
        "pathZip = os.path.join(os.getcwd(), 'Data', 'OpenCapData_' + session_id + '.zip')\n",
        "pathData = os.path.join(os.getcwd(), 'Data', 'OpenCapData_' + session_id)\n",
        "\n",
        "\n",
        "#cmd1 = \"!zip -r '\" + pathZip + \"' '\" + pathData + \"'\"\n",
        "cmd2 = '!zip \"/content/Data/OpenCapData_4d5c3eb1-1a59-4ea1-9178-d3634610561c.zip\" \"/content/Data/OpenCapData_4d5c3eb1-1a59-4ea1-9178-d3634610561c\"'\n",
        "\n",
        "# cmd = '!zip -r \"' + os.path.join(os.getcwd(), 'Data', 'OpenCapData_' + session_id + '\".zip '\"')'\"' + os.path.join(os.getcwd(), 'Data', 'OpenCapData_' + session_id)\n",
        "os.system(cmd2)\n",
        "\n",
        "\n",
        "#!zip '/content/Data/OpenCapData_4d5c3eb1-1a59-4ea1-9178-d3634610561c.zip' '/content/Data/OpenCapData_4d5c3eb1-1a59-4ea1-9178-d3634610561c'\n",
        "\n",
        "import shutil\n",
        "shutil.make_archive(output_filename, 'zip', dir_name)"
      ],
      "metadata": {
        "id": "pbDVdDrwNgQD",
        "outputId": "de93134f-cc80-470a-8d70-dd99c69f0a68",
        "colab": {
          "base_uri": "https://localhost:8080/"
        }
      },
      "execution_count": 44,
      "outputs": [
        {
          "output_type": "execute_result",
          "data": {
            "text/plain": [
              "32512"
            ]
          },
          "metadata": {},
          "execution_count": 44
        }
      ]
    },
    {
      "cell_type": "code",
      "source": [
        "from google.colab import files\n",
        "files.download('/content/Data/OpenCapData_4d5c3eb1-1a59-4ea1-9178-d3634610561c.zip')"
      ],
      "metadata": {
        "id": "aiOfty5KRePp",
        "outputId": "0a2b8bc0-f8da-4113-f817-dcbba334711f",
        "colab": {
          "base_uri": "https://localhost:8080/",
          "height": 17
        }
      },
      "execution_count": 31,
      "outputs": [
        {
          "output_type": "display_data",
          "data": {
            "text/plain": [
              "<IPython.core.display.Javascript object>"
            ],
            "application/javascript": [
              "\n",
              "    async function download(id, filename, size) {\n",
              "      if (!google.colab.kernel.accessAllowed) {\n",
              "        return;\n",
              "      }\n",
              "      const div = document.createElement('div');\n",
              "      const label = document.createElement('label');\n",
              "      label.textContent = `Downloading \"${filename}\": `;\n",
              "      div.appendChild(label);\n",
              "      const progress = document.createElement('progress');\n",
              "      progress.max = size;\n",
              "      div.appendChild(progress);\n",
              "      document.body.appendChild(div);\n",
              "\n",
              "      const buffers = [];\n",
              "      let downloaded = 0;\n",
              "\n",
              "      const channel = await google.colab.kernel.comms.open(id);\n",
              "      // Send a message to notify the kernel that we're ready.\n",
              "      channel.send({})\n",
              "\n",
              "      for await (const message of channel.messages) {\n",
              "        // Send a message to notify the kernel that we're ready.\n",
              "        channel.send({})\n",
              "        if (message.buffers) {\n",
              "          for (const buffer of message.buffers) {\n",
              "            buffers.push(buffer);\n",
              "            downloaded += buffer.byteLength;\n",
              "            progress.value = downloaded;\n",
              "          }\n",
              "        }\n",
              "      }\n",
              "      const blob = new Blob(buffers, {type: 'application/binary'});\n",
              "      const a = document.createElement('a');\n",
              "      a.href = window.URL.createObjectURL(blob);\n",
              "      a.download = filename;\n",
              "      div.appendChild(a);\n",
              "      a.click();\n",
              "      div.remove();\n",
              "    }\n",
              "  "
            ]
          },
          "metadata": {}
        },
        {
          "output_type": "display_data",
          "data": {
            "text/plain": [
              "<IPython.core.display.Javascript object>"
            ],
            "application/javascript": [
              "download(\"download_4e603dd6-67a1-4c61-bb2d-0a792d2b43c6\", \"OpenCapData_4d5c3eb1-1a59-4ea1-9178-d3634610561c.zip\", 274)"
            ]
          },
          "metadata": {}
        }
      ]
    },
    {
      "cell_type": "markdown",
      "source": [
        "# New Section"
      ],
      "metadata": {
        "id": "ozEyD2dWIsuu"
      }
    }
  ]
}